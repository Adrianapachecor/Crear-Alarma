{
  "nbformat": 4,
  "nbformat_minor": 0,
  "metadata": {
    "colab": {
      "name": "Config Alarm.ipynb",
      "provenance": []
    },
    "kernelspec": {
      "name": "python3",
      "display_name": "Python 3"
    },
    "language_info": {
      "name": "python"
    }
  },
  "cells": [
    {
      "cell_type": "code",
      "execution_count": null,
      "metadata": {
        "id": "kbcQGe-jcNv4"
      },
      "outputs": [],
      "source": [
        "#Realizar una alarma \n",
        "\n",
        "from datetime import date\n",
        "\n",
        "fecha_actual = date.today()\n",
        "print(fecha_actual)"
      ]
    },
    {
      "cell_type": "code",
      "source": [
        "\n",
        "import time\n",
        " \n",
        "def clock(hour,min):\n",
        "    while True:\n",
        "        t = time.time()\n",
        "        time_lst = time.localtime(t)\n",
        "        if time_lst[1] == hour and time_lst[2] == min:\n",
        "            print (\"Está sonando la alarma\")\n",
        "            import winsound\n",
        "            duration = 1000  # milliseconds\n",
        "            freq = 440  # Hz\n",
        "            winsound.Beep(freq, duration)\n",
        "            return\n",
        "        print('\\r{:0>2}:{:0>2}:{:0>2}'.format(time_lst[3],time_lst[4],time_lst[5]), end = '')\n",
        "        time.sleep(1)\n",
        " \n",
        "clock(int(input('Hour:')),int(input('Minute:')))"
      ],
      "metadata": {
        "id": "GN_hjPzydzkH"
      },
      "execution_count": null,
      "outputs": []
    }
  ]
}